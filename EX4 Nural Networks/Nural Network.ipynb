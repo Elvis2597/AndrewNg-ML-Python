{
 "cells": [
  {
   "cell_type": "code",
   "execution_count": 1,
   "metadata": {
    "collapsed": true
   },
   "outputs": [],
   "source": [
    "import pandas as pd\n",
    "import numpy as np\n",
    "import matplotlib.pyplot as plt\n",
    "%matplotlib inline"
   ]
  },
  {
   "cell_type": "code",
   "execution_count": 2,
   "metadata": {
    "collapsed": true
   },
   "outputs": [],
   "source": [
    "from scipy.io import loadmat"
   ]
  },
  {
   "cell_type": "code",
   "execution_count": 48,
   "metadata": {},
   "outputs": [
    {
     "data": {
      "text/plain": [
       "{'X': array([[ 0.,  0.,  0., ...,  0.,  0.,  0.],\n",
       "        [ 0.,  0.,  0., ...,  0.,  0.,  0.],\n",
       "        [ 0.,  0.,  0., ...,  0.,  0.,  0.],\n",
       "        ..., \n",
       "        [ 0.,  0.,  0., ...,  0.,  0.,  0.],\n",
       "        [ 0.,  0.,  0., ...,  0.,  0.,  0.],\n",
       "        [ 0.,  0.,  0., ...,  0.,  0.,  0.]]),\n",
       " '__globals__': [],\n",
       " '__header__': b'MATLAB 5.0 MAT-file, Platform: GLNXA64, Created on: Sun Oct 16 13:09:09 2011',\n",
       " '__version__': '1.0',\n",
       " 'y': array([[10],\n",
       "        [10],\n",
       "        [10],\n",
       "        ..., \n",
       "        [ 9],\n",
       "        [ 9],\n",
       "        [ 9]], dtype=uint8)}"
      ]
     },
     "execution_count": 48,
     "metadata": {},
     "output_type": "execute_result"
    }
   ],
   "source": [
    "data=loadmat('ex3data1.mat')\n",
    "data"
   ]
  },
  {
   "cell_type": "code",
   "execution_count": 49,
   "metadata": {
    "collapsed": true
   },
   "outputs": [],
   "source": [
    "X=data['X']\n",
    "y=data['y']"
   ]
  },
  {
   "cell_type": "code",
   "execution_count": 50,
   "metadata": {},
   "outputs": [
    {
     "name": "stdout",
     "output_type": "stream",
     "text": [
      "(3750, 400) (1250, 400) (3750, 1) (1250, 1)\n"
     ]
    }
   ],
   "source": [
    "# Splitting the dataset into the Training set and Test set\n",
    "from sklearn.model_selection import train_test_split\n",
    "X_train, X_test, y_train, y_test = train_test_split(X, y, test_size = 0.25, random_state = 0)\n",
    "print(X_train.shape, X_test.shape, y_train.shape, y_test.shape)"
   ]
  },
  {
   "cell_type": "code",
   "execution_count": 51,
   "metadata": {},
   "outputs": [
    {
     "name": "stdout",
     "output_type": "stream",
     "text": [
      "(3750, 10)\n"
     ]
    }
   ],
   "source": [
    "from sklearn.preprocessing import OneHotEncoder  \n",
    "encoder = OneHotEncoder(sparse=False)  \n",
    "y_train1= encoder.fit_transform(y_train)\n",
    "print(y_train1.shape)"
   ]
  },
  {
   "cell_type": "code",
   "execution_count": 52,
   "metadata": {},
   "outputs": [
    {
     "data": {
      "text/plain": [
       "(-0.5, 399.5, 19.5, -0.5)"
      ]
     },
     "execution_count": 52,
     "metadata": {},
     "output_type": "execute_result"
    },
    {
     "data": {
      "image/png": "[encoded data removed]",
      "text/plain": [
       "<matplotlib.figure.Figure at 0xff85f28>"
      ]
     },
     "metadata": {},
     "output_type": "display_data"
    }
   ],
   "source": [
    "sample = np.random.choice(X.shape[0], 20)\n",
    "plt.imshow(X[sample,:].reshape(-1,20).T)\n",
    "plt.axis('off')"
   ]
  },
  {
   "cell_type": "code",
   "execution_count": 9,
   "metadata": {},
   "outputs": [
    {
     "name": "stderr",
     "output_type": "stream",
     "text": [
      "Using TensorFlow backend.\n"
     ]
    }
   ],
   "source": [
    "import keras\n",
    "from keras.models import Sequential\n",
    "from keras.layers import Dense"
   ]
  },
  {
   "cell_type": "code",
   "execution_count": 53,
   "metadata": {},
   "outputs": [
    {
     "name": "stderr",
     "output_type": "stream",
     "text": [
      "C:\\Users\\Himanshu\\Anaconda3\\lib\\site-packages\\ipykernel_launcher.py:2: UserWarning: Update your `Dense` call to the Keras 2 API: `Dense(input_dim=400, kernel_initializer=\"uniform\", activation=\"sigmoid\", units=25)`\n",
      "  \n",
      "C:\\Users\\Himanshu\\Anaconda3\\lib\\site-packages\\ipykernel_launcher.py:3: UserWarning: Update your `Dense` call to the Keras 2 API: `Dense(kernel_initializer=\"uniform\", activation=\"sigmoid\", units=25)`\n",
      "  This is separate from the ipykernel package so we can avoid doing imports until\n",
      "C:\\Users\\Himanshu\\Anaconda3\\lib\\site-packages\\ipykernel_launcher.py:4: UserWarning: Update your `Dense` call to the Keras 2 API: `Dense(kernel_initializer=\"uniform\", activation=\"sigmoid\", units=10)`\n",
      "  after removing the cwd from sys.path.\n"
     ]
    }
   ],
   "source": [
    "classifier=Sequential()\n",
    "classifier.add(Dense(input_dim=400,output_dim=25,kernel_initializer='uniform',activation='sigmoid'))\n",
    "classifier.add(Dense(output_dim=25,kernel_initializer='uniform',activation='sigmoid'))\n",
    "classifier.add(Dense(output_dim=10,kernel_initializer='uniform',activation='sigmoid'))"
   ]
  },
  {
   "cell_type": "code",
   "execution_count": 55,
   "metadata": {},
   "outputs": [
    {
     "name": "stderr",
     "output_type": "stream",
     "text": [
      "C:\\Users\\Himanshu\\Anaconda3\\lib\\site-packages\\keras\\models.py:874: UserWarning: The `nb_epoch` argument in `fit` has been renamed `epochs`.\n",
      "  warnings.warn('The `nb_epoch` argument in `fit` '\n"
     ]
    },
    {
     "name": "stdout",
     "output_type": "stream",
     "text": [
      "Epoch 1/100\n",
      "3750/3750 [==============================] - 2s 433us/step - loss: 0.3643 - acc: 0.8937\n",
      "Epoch 2/100\n",
      "3750/3750 [==============================] - 1s 212us/step - loss: 0.3258 - acc: 0.9000\n",
      "Epoch 3/100\n",
      "3750/3750 [==============================] - 1s 209us/step - loss: 0.3256 - acc: 0.9000\n",
      "Epoch 4/100\n",
      "3750/3750 [==============================] - 1s 271us/step - loss: 0.3259 - acc: 0.9000\n",
      "Epoch 5/100\n",
      "3750/3750 [==============================] - 1s 261us/step - loss: 0.3258 - acc: 0.9000\n",
      "Epoch 6/100\n",
      "3750/3750 [==============================] - 1s 223us/step - loss: 0.3256 - acc: 0.9000\n",
      "Epoch 7/100\n",
      "3750/3750 [==============================] - 1s 230us/step - loss: 0.3254 - acc: 0.9000 0s - loss: 0.3257 - ac\n",
      "Epoch 8/100\n",
      "3750/3750 [==============================] - 1s 230us/step - loss: 0.3169 - acc: 0.9000\n",
      "Epoch 9/100\n",
      "3750/3750 [==============================] - 1s 222us/step - loss: 0.2902 - acc: 0.9000\n",
      "Epoch 10/100\n",
      "3750/3750 [==============================] - 1s 262us/step - loss: 0.2767 - acc: 0.9000\n",
      "Epoch 11/100\n",
      "3750/3750 [==============================] - 1s 233us/step - loss: 0.2714 - acc: 0.9000\n",
      "Epoch 12/100\n",
      "3750/3750 [==============================] - 1s 280us/step - loss: 0.2653 - acc: 0.9000\n",
      "Epoch 13/100\n",
      "3750/3750 [==============================] - 1s 216us/step - loss: 0.2545 - acc: 0.9000\n",
      "Epoch 14/100\n",
      "3750/3750 [==============================] - 1s 228us/step - loss: 0.2411 - acc: 0.9000\n",
      "Epoch 15/100\n",
      "3750/3750 [==============================] - 1s 223us/step - loss: 0.2275 - acc: 0.9000\n",
      "Epoch 16/100\n",
      "3750/3750 [==============================] - 1s 240us/step - loss: 0.2129 - acc: 0.9012\n",
      "Epoch 17/100\n",
      "3750/3750 [==============================] - 1s 248us/step - loss: 0.1972 - acc: 0.9059\n",
      "Epoch 18/100\n",
      "3750/3750 [==============================] - 1s 259us/step - loss: 0.1836 - acc: 0.9118\n",
      "Epoch 19/100\n",
      "3750/3750 [==============================] - 1s 251us/step - loss: 0.1726 - acc: 0.9301\n",
      "Epoch 20/100\n",
      "3750/3750 [==============================] - 1s 218us/step - loss: 0.1604 - acc: 0.9356\n",
      "Epoch 21/100\n",
      "3750/3750 [==============================] - 1s 281us/step - loss: 0.1483 - acc: 0.9401\n",
      "Epoch 22/100\n",
      "3750/3750 [==============================] - 1s 270us/step - loss: 0.1358 - acc: 0.9495\n",
      "Epoch 23/100\n",
      "3750/3750 [==============================] - 1s 232us/step - loss: 0.1246 - acc: 0.9539\n",
      "Epoch 24/100\n",
      "3750/3750 [==============================] - 1s 224us/step - loss: 0.1150 - acc: 0.9563\n",
      "Epoch 25/100\n",
      "3750/3750 [==============================] - 1s 285us/step - loss: 0.1066 - acc: 0.9590\n",
      "Epoch 26/100\n",
      "3750/3750 [==============================] - 1s 221us/step - loss: 0.1001 - acc: 0.9621\n",
      "Epoch 27/100\n",
      "3750/3750 [==============================] - 1s 250us/step - loss: 0.0942 - acc: 0.9655\n",
      "Epoch 28/100\n",
      "3750/3750 [==============================] - 1s 235us/step - loss: 0.0892 - acc: 0.9674\n",
      "Epoch 29/100\n",
      "3750/3750 [==============================] - 1s 217us/step - loss: 0.0848 - acc: 0.9686\n",
      "Epoch 30/100\n",
      "3750/3750 [==============================] - 1s 222us/step - loss: 0.0813 - acc: 0.9706\n",
      "Epoch 31/100\n",
      "3750/3750 [==============================] - 1s 230us/step - loss: 0.0778 - acc: 0.9714\n",
      "Epoch 32/100\n",
      "3750/3750 [==============================] - 1s 233us/step - loss: 0.0741 - acc: 0.9734\n",
      "Epoch 33/100\n",
      "3750/3750 [==============================] - 1s 220us/step - loss: 0.0706 - acc: 0.9760\n",
      "Epoch 34/100\n",
      "3750/3750 [==============================] - 1s 235us/step - loss: 0.0669 - acc: 0.9782\n",
      "Epoch 35/100\n",
      "3750/3750 [==============================] - 1s 230us/step - loss: 0.0632 - acc: 0.9810\n",
      "Epoch 36/100\n",
      "3750/3750 [==============================] - 1s 235us/step - loss: 0.0594 - acc: 0.9834\n",
      "Epoch 37/100\n",
      "3750/3750 [==============================] - 1s 259us/step - loss: 0.0557 - acc: 0.9843\n",
      "Epoch 38/100\n",
      "3750/3750 [==============================] - 1s 327us/step - loss: 0.0519 - acc: 0.9859\n",
      "Epoch 39/100\n",
      "3750/3750 [==============================] - 1s 264us/step - loss: 0.0488 - acc: 0.9870\n",
      "Epoch 40/100\n",
      "3750/3750 [==============================] - 1s 245us/step - loss: 0.0457 - acc: 0.9878\n",
      "Epoch 41/100\n",
      "3750/3750 [==============================] - 1s 220us/step - loss: 0.0430 - acc: 0.9889\n",
      "Epoch 42/100\n",
      "3750/3750 [==============================] - 1s 250us/step - loss: 0.0407 - acc: 0.9894\n",
      "Epoch 43/100\n",
      "3750/3750 [==============================] - 1s 289us/step - loss: 0.0385 - acc: 0.9898\n",
      "Epoch 44/100\n",
      "3750/3750 [==============================] - 1s 284us/step - loss: 0.0366 - acc: 0.9907\n",
      "Epoch 45/100\n",
      "3750/3750 [==============================] - 1s 279us/step - loss: 0.0347 - acc: 0.9911\n",
      "Epoch 46/100\n",
      "3750/3750 [==============================] - 1s 234us/step - loss: 0.0330 - acc: 0.9917\n",
      "Epoch 47/100\n",
      "3750/3750 [==============================] - 1s 245us/step - loss: 0.0314 - acc: 0.9921 0s - loss: 0.0336 - \n",
      "Epoch 48/100\n",
      "3750/3750 [==============================] - 1s 233us/step - loss: 0.0300 - acc: 0.9924\n",
      "Epoch 49/100\n",
      "3750/3750 [==============================] - 1s 254us/step - loss: 0.0287 - acc: 0.9928\n",
      "Epoch 50/100\n",
      "3750/3750 [==============================] - 1s 239us/step - loss: 0.0273 - acc: 0.9932\n",
      "Epoch 51/100\n",
      "3750/3750 [==============================] - 1s 229us/step - loss: 0.0262 - acc: 0.9934\n",
      "Epoch 52/100\n",
      "3750/3750 [==============================] - 1s 219us/step - loss: 0.0251 - acc: 0.9939\n",
      "Epoch 53/100\n",
      "3750/3750 [==============================] - 1s 214us/step - loss: 0.0239 - acc: 0.9942\n",
      "Epoch 54/100\n",
      "3750/3750 [==============================] - 1s 211us/step - loss: 0.0228 - acc: 0.9945\n",
      "Epoch 55/100\n",
      "3750/3750 [==============================] - 1s 285us/step - loss: 0.0220 - acc: 0.9949\n",
      "Epoch 56/100\n",
      "3750/3750 [==============================] - 1s 249us/step - loss: 0.0210 - acc: 0.9949\n",
      "Epoch 57/100\n",
      "3750/3750 [==============================] - 1s 266us/step - loss: 0.0203 - acc: 0.9951\n",
      "Epoch 58/100\n",
      "3750/3750 [==============================] - 1s 286us/step - loss: 0.0194 - acc: 0.9953\n",
      "Epoch 59/100\n",
      "3750/3750 [==============================] - 1s 278us/step - loss: 0.0186 - acc: 0.9958\n",
      "Epoch 60/100\n",
      "3750/3750 [==============================] - 1s 247us/step - loss: 0.0179 - acc: 0.9960\n",
      "Epoch 61/100\n",
      "3750/3750 [==============================] - 1s 232us/step - loss: 0.0174 - acc: 0.9959\n",
      "Epoch 62/100\n",
      "3750/3750 [==============================] - 1s 239us/step - loss: 0.0166 - acc: 0.9960\n",
      "Epoch 63/100\n",
      "3750/3750 [==============================] - 1s 229us/step - loss: 0.0160 - acc: 0.9963\n",
      "Epoch 64/100\n",
      "3750/3750 [==============================] - 1s 238us/step - loss: 0.0153 - acc: 0.9965\n",
      "Epoch 65/100\n",
      "3750/3750 [==============================] - 1s 243us/step - loss: 0.0148 - acc: 0.9966\n",
      "Epoch 66/100\n",
      "3750/3750 [==============================] - 1s 277us/step - loss: 0.0142 - acc: 0.9969\n",
      "Epoch 67/100\n",
      "3750/3750 [==============================] - 1s 263us/step - loss: 0.0138 - acc: 0.9967 0s - loss: 0.0149 \n",
      "Epoch 68/100\n",
      "3750/3750 [==============================] - 1s 344us/step - loss: 0.0133 - acc: 0.9972\n",
      "Epoch 69/100\n",
      "3750/3750 [==============================] - 1s 281us/step - loss: 0.0128 - acc: 0.9972\n",
      "Epoch 70/100\n",
      "3750/3750 [==============================] - 1s 286us/step - loss: 0.0123 - acc: 0.9973\n",
      "Epoch 71/100\n",
      "3750/3750 [==============================] - 1s 261us/step - loss: 0.0118 - acc: 0.9975\n",
      "Epoch 72/100\n",
      "3750/3750 [==============================] - 1s 252us/step - loss: 0.0114 - acc: 0.9975\n",
      "Epoch 73/100\n",
      "3750/3750 [==============================] - 1s 239us/step - loss: 0.0111 - acc: 0.9977\n",
      "Epoch 74/100\n",
      "3750/3750 [==============================] - 1s 240us/step - loss: 0.0105 - acc: 0.9978\n",
      "Epoch 75/100\n",
      "3750/3750 [==============================] - 1s 238us/step - loss: 0.0101 - acc: 0.9980\n",
      "Epoch 76/100\n",
      "3750/3750 [==============================] - 1s 264us/step - loss: 0.0099 - acc: 0.9980\n",
      "Epoch 77/100\n",
      "3750/3750 [==============================] - 1s 262us/step - loss: 0.0095 - acc: 0.9980\n",
      "Epoch 78/100\n",
      "3750/3750 [==============================] - 1s 239us/step - loss: 0.0091 - acc: 0.9984\n",
      "Epoch 79/100\n",
      "3750/3750 [==============================] - 1s 293us/step - loss: 0.0087 - acc: 0.9983\n",
      "Epoch 80/100\n",
      "3750/3750 [==============================] - 1s 277us/step - loss: 0.0085 - acc: 0.9983\n",
      "Epoch 81/100\n",
      "3750/3750 [==============================] - 1s 233us/step - loss: 0.0081 - acc: 0.9985\n",
      "Epoch 82/100\n",
      "3750/3750 [==============================] - 1s 218us/step - loss: 0.0078 - acc: 0.9986\n",
      "Epoch 83/100\n",
      "3750/3750 [==============================] - 1s 256us/step - loss: 0.0075 - acc: 0.9987\n",
      "Epoch 84/100\n",
      "3750/3750 [==============================] - 1s 238us/step - loss: 0.0074 - acc: 0.9987\n",
      "Epoch 85/100\n",
      "3750/3750 [==============================] - 1s 233us/step - loss: 0.0070 - acc: 0.9988\n",
      "Epoch 86/100\n",
      "3750/3750 [==============================] - 1s 227us/step - loss: 0.0067 - acc: 0.9988\n",
      "Epoch 87/100\n",
      "3750/3750 [==============================] - 1s 219us/step - loss: 0.0065 - acc: 0.9989\n",
      "Epoch 88/100\n",
      "3750/3750 [==============================] - 1s 234us/step - loss: 0.0062 - acc: 0.9989\n",
      "Epoch 89/100\n",
      "3750/3750 [==============================] - 1s 254us/step - loss: 0.0059 - acc: 0.9990\n",
      "Epoch 90/100\n",
      "3750/3750 [==============================] - 1s 262us/step - loss: 0.0057 - acc: 0.9991\n",
      "Epoch 91/100\n",
      "3750/3750 [==============================] - 1s 185us/step - loss: 0.0055 - acc: 0.9992\n",
      "Epoch 92/100\n",
      "3750/3750 [==============================] - 1s 200us/step - loss: 0.0052 - acc: 0.9991\n",
      "Epoch 93/100\n",
      "3750/3750 [==============================] - 1s 189us/step - loss: 0.0050 - acc: 0.9992\n",
      "Epoch 94/100\n",
      "3750/3750 [==============================] - 1s 311us/step - loss: 0.0048 - acc: 0.9993\n",
      "Epoch 95/100\n",
      "3750/3750 [==============================] - 1s 187us/step - loss: 0.0047 - acc: 0.9993\n",
      "Epoch 96/100\n",
      "3750/3750 [==============================] - 1s 315us/step - loss: 0.0044 - acc: 0.9993\n",
      "Epoch 97/100\n",
      "3750/3750 [==============================] - 1s 277us/step - loss: 0.0043 - acc: 0.9993\n",
      "Epoch 98/100\n",
      "3750/3750 [==============================] - 1s 261us/step - loss: 0.0041 - acc: 0.9993\n",
      "Epoch 99/100\n",
      "3750/3750 [==============================] - 1s 260us/step - loss: 0.0039 - acc: 0.9994\n",
      "Epoch 100/100\n",
      "3750/3750 [==============================] - 1s 228us/step - loss: 0.0037 - acc: 0.9994\n"
     ]
    },
    {
     "data": {
      "text/plain": [
       "<keras.callbacks.History at 0x115eef60>"
      ]
     },
     "execution_count": 55,
     "metadata": {},
     "output_type": "execute_result"
    }
   ],
   "source": [
    "#compiling\n",
    "classifier.compile(optimizer='adam',loss='binary_crossentropy',metrics=['accuracy'])\n",
    "classifier.fit(X_train,y_train1,batch_size=10,nb_epoch=100)"
   ]
  },
  {
   "cell_type": "code",
   "execution_count": 63,
   "metadata": {},
   "outputs": [
    {
     "name": "stdout",
     "output_type": "stream",
     "text": [
      "1250/1250 [==============================] - 0s 36us/step\n"
     ]
    },
    {
     "data": {
      "text/plain": [
       "(1250,)"
      ]
     },
     "execution_count": 63,
     "metadata": {},
     "output_type": "execute_result"
    }
   ],
   "source": [
    "y_pred1=classifier.predict_classes(X_test)\n",
    "y_pred=classifier.predict(X_test)\n",
    "y_pred1.shape"
   ]
  },
  {
   "cell_type": "code",
   "execution_count": 68,
   "metadata": {},
   "outputs": [
    {
     "data": {
      "text/plain": [
       "9"
      ]
     },
     "execution_count": 68,
     "metadata": {},
     "output_type": "execute_result"
    }
   ],
   "source": [
    "y_pred1[0]"
   ]
  },
  {
   "cell_type": "code",
   "execution_count": 71,
   "metadata": {},
   "outputs": [
    {
     "data": {
      "text/plain": [
       "array([10,  1,  9, ..., 10,  1,  4], dtype=int64)"
      ]
     },
     "execution_count": 71,
     "metadata": {},
     "output_type": "execute_result"
    }
   ],
   "source": [
    "for i in range(1250):\n",
    "    y_pred1[i]+=1\n",
    "y_pred1"
   ]
  },
  {
   "cell_type": "code",
   "execution_count": 72,
   "metadata": {},
   "outputs": [
    {
     "name": "stdout",
     "output_type": "stream",
     "text": [
      "             precision    recall  f1-score   support\n",
      "\n",
      "          1       0.96      0.95      0.96       126\n",
      "          2       0.89      0.90      0.90       119\n",
      "          3       0.94      0.92      0.93       121\n",
      "          4       0.89      0.93      0.91       109\n",
      "          5       0.93      0.88      0.90       146\n",
      "          6       0.92      0.91      0.92       116\n",
      "          7       0.95      0.89      0.92       137\n",
      "          8       0.92      0.92      0.92       140\n",
      "          9       0.85      0.95      0.90       118\n",
      "         10       0.95      0.96      0.95       118\n",
      "\n",
      "avg / total       0.92      0.92      0.92      1250\n",
      "\n"
     ]
    }
   ],
   "source": [
    "from sklearn.metrics import classification_report,confusion_matrix\n",
    "print(classification_report(y_pred1,y_test))"
   ]
  },
  {
   "cell_type": "code",
   "execution_count": 73,
   "metadata": {},
   "outputs": [
    {
     "data": {
      "text/plain": [
       "array([[120,   0,   0,   2,   1,   1,   1,   0,   1,   0],\n",
       "       [  0, 107,   3,   2,   2,   3,   1,   1,   0,   0],\n",
       "       [  0,   2, 111,   0,   3,   0,   2,   1,   2,   0],\n",
       "       [  0,   1,   0, 101,   0,   1,   1,   0,   5,   0],\n",
       "       [  2,   1,   1,   3, 128,   2,   0,   5,   2,   2],\n",
       "       [  1,   0,   0,   3,   1, 106,   0,   1,   1,   3],\n",
       "       [  0,   2,   3,   2,   1,   0, 122,   0,   7,   0],\n",
       "       [  2,   5,   0,   0,   1,   0,   1, 129,   1,   1],\n",
       "       [  0,   1,   0,   1,   1,   0,   0,   3, 112,   0],\n",
       "       [  0,   1,   0,   0,   0,   2,   1,   0,   1, 113]])"
      ]
     },
     "execution_count": 73,
     "metadata": {},
     "output_type": "execute_result"
    }
   ],
   "source": [
    "cm = confusion_matrix(y_pred1, y_test)\n",
    "cm"
   ]
  },
  {
   "cell_type": "code",
   "execution_count": 80,
   "metadata": {},
   "outputs": [
    {
     "name": "stdout",
     "output_type": "stream",
     "text": [
      "1250/1250 [==============================] - 0s 104us/step\n"
     ]
    },
    {
     "data": {
      "text/plain": [
       "[0.072211236608028417, 0.98368001308441166]"
      ]
     },
     "execution_count": 80,
     "metadata": {},
     "output_type": "execute_result"
    }
   ],
   "source": [
    "classifier.evaluate(X_test,encoder.fit_transform(y_test))"
   ]
  },
  {
   "cell_type": "code",
   "execution_count": 2,
   "metadata": {},
   "outputs": [
    {
     "data": {
      "text/plain": [
       "1.05589124969244"
      ]
     },
     "execution_count": 2,
     "metadata": {},
     "output_type": "execute_result"
    }
   ],
   "source": []
  },
  {
   "cell_type": "code",
   "execution_count": null,
   "metadata": {
    "collapsed": true
   },
   "outputs": [],
   "source": []
  }
 ],
 "metadata": {
  "kernelspec": {
   "display_name": "Python 3",
   "language": "python",
   "name": "python3"
  },
  "language_info": {
   "codemirror_mode": {
    "name": "ipython",
    "version": 3
   },
   "file_extension": ".py",
   "mimetype": "text/x-python",
   "name": "python",
   "nbconvert_exporter": "python",
   "pygments_lexer": "ipython3",
   "version": "3.6.1"
  }
 },
 "nbformat": 4,
 "nbformat_minor": 2
}
